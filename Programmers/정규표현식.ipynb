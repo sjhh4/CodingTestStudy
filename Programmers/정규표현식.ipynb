{
 "cells": [
  {
   "cell_type": "markdown",
   "id": "b261f281",
   "metadata": {
    "toc": true
   },
   "source": [
    "<h1>Table of Contents<span class=\"tocSkip\"></span></h1>\n",
    "<div class=\"toc\"><ul class=\"toc-item\"></ul></div>"
   ]
  },
  {
   "cell_type": "code",
   "execution_count": 8,
   "id": "c3252827",
   "metadata": {
    "ExecuteTime": {
     "end_time": "2022-10-15T04:26:45.075896Z",
     "start_time": "2022-10-15T04:26:45.068898Z"
    }
   },
   "outputs": [
    {
     "name": "stdout",
     "output_type": "stream",
     "text": [
      "['Luke', 'Skywarker', '02', '123', '4567', 'luke', 'daum', 'net', '다스베이더', '070', '9999', '9999', 'darth_vader', 'gmail', 'com', 'princess', 'leia', '010', '2454', '3457', 'leia', 'gmail', 'com']\n",
      "<class 'list'>\n",
      "Luke\n",
      "Skywarker\n",
      "02\n",
      "123\n",
      "4567\n",
      "luke\n",
      "daum\n",
      "net\n",
      "다스베이더\n",
      "070\n",
      "9999\n",
      "9999\n",
      "darth_vader\n",
      "gmail\n",
      "com\n",
      "princess\n",
      "leia\n",
      "010\n",
      "2454\n",
      "3457\n",
      "leia\n",
      "gmail\n",
      "com\n"
     ]
    }
   ],
   "source": [
    "# 빈칸에 정규표현식을 적습니다.\n",
    "regex = r'\\w+'\n",
    "\n",
    "search_target = '''Luke Skywarker 02-123-4567 luke@daum.net\n",
    "다스베이더 070-9999-9999 darth_vader@gmail.com\n",
    "princess leia 010 2454 3457 leia@gmail.com'''\n",
    "\n",
    "# 정규표현식과 일치하는 부분을 모두 찾아주는 파이썬 코드입니다.\n",
    "import re\n",
    "result = re.findall(regex, search_target)\n",
    "print(result)\n",
    "print(type(result))\n",
    "print(\"\\n\".join(result))"
   ]
  },
  {
   "cell_type": "code",
   "execution_count": null,
   "id": "23e427e9",
   "metadata": {},
   "outputs": [],
   "source": []
  }
 ],
 "metadata": {
  "kernelspec": {
   "display_name": "ETA3.9",
   "language": "python",
   "name": "eta3.9"
  },
  "language_info": {
   "codemirror_mode": {
    "name": "ipython",
    "version": 3
   },
   "file_extension": ".py",
   "mimetype": "text/x-python",
   "name": "python",
   "nbconvert_exporter": "python",
   "pygments_lexer": "ipython3",
   "version": "3.9.12"
  },
  "toc": {
   "base_numbering": 1,
   "nav_menu": {},
   "number_sections": false,
   "sideBar": true,
   "skip_h1_title": false,
   "title_cell": "Table of Contents",
   "title_sidebar": "Contents",
   "toc_cell": true,
   "toc_position": {},
   "toc_section_display": true,
   "toc_window_display": false
  },
  "varInspector": {
   "cols": {
    "lenName": 16,
    "lenType": 16,
    "lenVar": 40
   },
   "kernels_config": {
    "python": {
     "delete_cmd_postfix": "",
     "delete_cmd_prefix": "del ",
     "library": "var_list.py",
     "varRefreshCmd": "print(var_dic_list())"
    },
    "r": {
     "delete_cmd_postfix": ") ",
     "delete_cmd_prefix": "rm(",
     "library": "var_list.r",
     "varRefreshCmd": "cat(var_dic_list()) "
    }
   },
   "types_to_exclude": [
    "module",
    "function",
    "builtin_function_or_method",
    "instance",
    "_Feature"
   ],
   "window_display": false
  }
 },
 "nbformat": 4,
 "nbformat_minor": 5
}
