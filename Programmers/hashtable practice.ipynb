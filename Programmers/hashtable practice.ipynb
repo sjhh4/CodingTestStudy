{
 "cells": [
  {
   "cell_type": "markdown",
   "id": "1a5f598f",
   "metadata": {
    "toc": true
   },
   "source": [
    "<h1>Table of Contents<span class=\"tocSkip\"></span></h1>\n",
    "<div class=\"toc\"><ul class=\"toc-item\"></ul></div>"
   ]
  },
  {
   "cell_type": "code",
   "execution_count": 1,
   "id": "e0851c60",
   "metadata": {
    "ExecuteTime": {
     "end_time": "2022-11-04T10:46:36.962505Z",
     "start_time": "2022-11-04T10:46:36.946509Z"
    }
   },
   "outputs": [],
   "source": [
    "import collections\n",
    "\n",
    "\n",
    "def solution(participant, completion):\n",
    "    answer = collections.Counter(participant) - collections.Counter(completion)\n",
    "    return list(answer.keys())[0]"
   ]
  },
  {
   "cell_type": "code",
   "execution_count": 4,
   "id": "cec5e04b",
   "metadata": {
    "ExecuteTime": {
     "end_time": "2022-11-04T10:47:50.527325Z",
     "start_time": "2022-11-04T10:47:50.511326Z"
    }
   },
   "outputs": [],
   "source": [
    "participant = [\"leo\", \"kiki\", \"eden\"]\n",
    "completion = [\"eden\", \"kiki\"]\n",
    "# participant = [\"marina\", \"josipa\", \"nikola\", \"vinko\", \"filipa\"]\n",
    "# completion = [\"josipa\", \"filipa\", \"marina\", \"nikola\"]\n",
    "# participant = [\"mislav\", \"stanko\", \"mislav\", \"ana\"]\n",
    "# completion = [\"stanko\", \"ana\", \"mislav\"]]"
   ]
  },
  {
   "cell_type": "code",
   "execution_count": 5,
   "id": "47e60b0a",
   "metadata": {
    "ExecuteTime": {
     "end_time": "2022-11-04T10:47:50.737324Z",
     "start_time": "2022-11-04T10:47:50.719326Z"
    }
   },
   "outputs": [
    {
     "data": {
      "text/plain": [
       "'leo'"
      ]
     },
     "execution_count": 5,
     "metadata": {},
     "output_type": "execute_result"
    }
   ],
   "source": [
    "solution(participant, completion)"
   ]
  },
  {
   "cell_type": "code",
   "execution_count": 6,
   "id": "acffcc2b",
   "metadata": {
    "ExecuteTime": {
     "end_time": "2022-11-04T10:48:03.442584Z",
     "start_time": "2022-11-04T10:48:03.432583Z"
    }
   },
   "outputs": [
    {
     "name": "stdout",
     "output_type": "stream",
     "text": [
      "Counter({'leo': 1, 'kiki': 1, 'eden': 1})\n"
     ]
    }
   ],
   "source": [
    "print(collections.Counter(participant))"
   ]
  },
  {
   "cell_type": "code",
   "execution_count": null,
   "id": "f1650f84",
   "metadata": {},
   "outputs": [],
   "source": []
  }
 ],
 "metadata": {
  "kernelspec": {
   "display_name": "ETA3.9",
   "language": "python",
   "name": "eta3.9"
  },
  "language_info": {
   "codemirror_mode": {
    "name": "ipython",
    "version": 3
   },
   "file_extension": ".py",
   "mimetype": "text/x-python",
   "name": "python",
   "nbconvert_exporter": "python",
   "pygments_lexer": "ipython3",
   "version": "3.9.12"
  },
  "toc": {
   "base_numbering": 1,
   "nav_menu": {},
   "number_sections": false,
   "sideBar": true,
   "skip_h1_title": false,
   "title_cell": "Table of Contents",
   "title_sidebar": "Contents",
   "toc_cell": true,
   "toc_position": {},
   "toc_section_display": true,
   "toc_window_display": false
  },
  "varInspector": {
   "cols": {
    "lenName": 16,
    "lenType": 16,
    "lenVar": 40
   },
   "kernels_config": {
    "python": {
     "delete_cmd_postfix": "",
     "delete_cmd_prefix": "del ",
     "library": "var_list.py",
     "varRefreshCmd": "print(var_dic_list())"
    },
    "r": {
     "delete_cmd_postfix": ") ",
     "delete_cmd_prefix": "rm(",
     "library": "var_list.r",
     "varRefreshCmd": "cat(var_dic_list()) "
    }
   },
   "types_to_exclude": [
    "module",
    "function",
    "builtin_function_or_method",
    "instance",
    "_Feature"
   ],
   "window_display": false
  }
 },
 "nbformat": 4,
 "nbformat_minor": 5
}
