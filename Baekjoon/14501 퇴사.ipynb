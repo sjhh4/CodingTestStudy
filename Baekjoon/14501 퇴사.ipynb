{
 "cells": [
  {
   "cell_type": "markdown",
   "id": "9bf07a8d",
   "metadata": {
    "toc": true
   },
   "source": [
    "<h1>Table of Contents<span class=\"tocSkip\"></span></h1>\n",
    "<div class=\"toc\"><ul class=\"toc-item\"></ul></div>"
   ]
  },
  {
   "cell_type": "code",
   "execution_count": 1,
   "id": "e4a4b80e",
   "metadata": {
    "ExecuteTime": {
     "end_time": "2022-11-09T05:27:23.689462Z",
     "start_time": "2022-11-09T05:27:19.381353Z"
    }
   },
   "outputs": [
    {
     "name": "stdout",
     "output_type": "stream",
     "text": [
      "1 2\n",
      "1 2\n",
      "1 2\n",
      "[[1, 2], [1, 2], [1, 2]]\n"
     ]
    }
   ],
   "source": [
    "table = []\n",
    "for i in range(3):\n",
    "    table.append(list(map(int, input().split())))\n",
    "print(table)"
   ]
  },
  {
   "cell_type": "code",
   "execution_count": 6,
   "id": "ec33633f",
   "metadata": {
    "ExecuteTime": {
     "end_time": "2022-11-09T09:13:47.420743Z",
     "start_time": "2022-11-09T09:13:18.881743Z"
    }
   },
   "outputs": [
    {
     "name": "stdout",
     "output_type": "stream",
     "text": [
      "7\n",
      "3 10 \n",
      "5 20 \n",
      "1 10 \n",
      "1 20 \n",
      "2 15 \n",
      "4 40 \n",
      "2 200\n",
      "0\n"
     ]
    }
   ],
   "source": [
    "n = int(input())\n",
    "day = []\n",
    "pay = []\n",
    "answer = 0\n",
    "\n",
    "for i in range(n):\n",
    "    a, b = map(int, input().split())\n",
    "    if  a > n-i:\n",
    "        a = 0\n",
    "        b = 0\n",
    "    day.append(a)\n",
    "    pay.append(b)\n",
    "\n",
    "\n",
    "\n",
    "\n",
    "print(answer)"
   ]
  },
  {
   "cell_type": "code",
   "execution_count": 8,
   "id": "7bca6c7b",
   "metadata": {
    "ExecuteTime": {
     "end_time": "2022-11-09T09:14:00.605743Z",
     "start_time": "2022-11-09T09:14:00.589747Z"
    }
   },
   "outputs": [
    {
     "name": "stdout",
     "output_type": "stream",
     "text": [
      "[3, 5, 1, 1, 2, 0, 0] [10, 20, 10, 20, 15, 0, 0]\n"
     ]
    }
   ],
   "source": [
    "print(day, pay)"
   ]
  },
  {
   "cell_type": "code",
   "execution_count": null,
   "id": "6c8d2e00",
   "metadata": {},
   "outputs": [],
   "source": []
  }
 ],
 "metadata": {
  "kernelspec": {
   "display_name": "ETA3.9",
   "language": "python",
   "name": "eta3.9"
  },
  "language_info": {
   "codemirror_mode": {
    "name": "ipython",
    "version": 3
   },
   "file_extension": ".py",
   "mimetype": "text/x-python",
   "name": "python",
   "nbconvert_exporter": "python",
   "pygments_lexer": "ipython3",
   "version": "3.9.12"
  },
  "toc": {
   "base_numbering": 1,
   "nav_menu": {},
   "number_sections": false,
   "sideBar": true,
   "skip_h1_title": false,
   "title_cell": "Table of Contents",
   "title_sidebar": "Contents",
   "toc_cell": true,
   "toc_position": {},
   "toc_section_display": true,
   "toc_window_display": false
  },
  "varInspector": {
   "cols": {
    "lenName": 16,
    "lenType": 16,
    "lenVar": 40
   },
   "kernels_config": {
    "python": {
     "delete_cmd_postfix": "",
     "delete_cmd_prefix": "del ",
     "library": "var_list.py",
     "varRefreshCmd": "print(var_dic_list())"
    },
    "r": {
     "delete_cmd_postfix": ") ",
     "delete_cmd_prefix": "rm(",
     "library": "var_list.r",
     "varRefreshCmd": "cat(var_dic_list()) "
    }
   },
   "types_to_exclude": [
    "module",
    "function",
    "builtin_function_or_method",
    "instance",
    "_Feature"
   ],
   "window_display": false
  }
 },
 "nbformat": 4,
 "nbformat_minor": 5
}
