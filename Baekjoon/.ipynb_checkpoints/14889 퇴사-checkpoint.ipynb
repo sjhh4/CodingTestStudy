{
 "cells": [
  {
   "cell_type": "markdown",
   "id": "b2ea8ba6",
   "metadata": {
    "toc": true
   },
   "source": [
    "<h1>Table of Contents<span class=\"tocSkip\"></span></h1>\n",
    "<div class=\"toc\"><ul class=\"toc-item\"></ul></div>"
   ]
  },
  {
   "cell_type": "code",
   "execution_count": 1,
   "id": "3d5b8fd8",
   "metadata": {
    "ExecuteTime": {
     "end_time": "2022-11-10T02:28:26.930103Z",
     "start_time": "2022-11-10T02:27:50.201109Z"
    }
   },
   "outputs": [
    {
     "name": "stdout",
     "output_type": "stream",
     "text": [
      "8\n",
      "0 5 4 5 4 5 4 5\n",
      "4 0 5 1 2 3 4 5\n",
      "9 8 0 1 2 3 1 2\n",
      "9 9 9 0 9 9 9 9\n",
      "1 1 1 1 0 1 1 1\n",
      "8 7 6 5 4 0 3 2\n",
      "9 1 9 1 9 1 0 9\n",
      "6 5 4 3 2 1 9 0\n"
     ]
    }
   ],
   "source": [
    "'''\n",
    "8\n",
    "0 5 4 5 4 5 4 5\n",
    "4 0 5 1 2 3 4 5\n",
    "9 8 0 1 2 3 1 2\n",
    "9 9 9 0 9 9 9 9\n",
    "1 1 1 1 0 1 1 1\n",
    "8 7 6 5 4 0 3 2\n",
    "9 1 9 1 9 1 0 9\n",
    "6 5 4 3 2 1 9 0\n",
    "'''\n",
    "import math\n",
    "\n",
    "n = int(input())\n",
    "data = []\n",
    "answer = []\n",
    "for i in range(n):\n",
    "    data.append(list(map(int, input().split())))"
   ]
  },
  {
   "cell_type": "code",
   "execution_count": 2,
   "id": "e3de84f1",
   "metadata": {
    "ExecuteTime": {
     "end_time": "2022-11-10T02:28:29.467634Z",
     "start_time": "2022-11-10T02:28:29.462636Z"
    }
   },
   "outputs": [
    {
     "name": "stdout",
     "output_type": "stream",
     "text": [
      "[[0, 5, 4, 5, 4, 5, 4, 5], [4, 0, 5, 1, 2, 3, 4, 5], [9, 8, 0, 1, 2, 3, 1, 2], [9, 9, 9, 0, 9, 9, 9, 9], [1, 1, 1, 1, 0, 1, 1, 1], [8, 7, 6, 5, 4, 0, 3, 2], [9, 1, 9, 1, 9, 1, 0, 9], [6, 5, 4, 3, 2, 1, 9, 0]]\n"
     ]
    }
   ],
   "source": [
    "print(data)\n",
    "answer = []"
   ]
  },
  {
   "cell_type": "code",
   "execution_count": 15,
   "id": "2d450e7f",
   "metadata": {
    "ExecuteTime": {
     "end_time": "2022-11-10T03:50:38.144600Z",
     "start_time": "2022-11-10T03:50:38.126601Z"
    }
   },
   "outputs": [],
   "source": [
    "for i in range(len(data)):\n",
    "    for j in range(i + 1, len(data)):\n",
    "        data[i][j] += data[j][i]\n",
    "        data[j][i] = 0"
   ]
  },
  {
   "cell_type": "code",
   "execution_count": 16,
   "id": "e29a4a51",
   "metadata": {
    "ExecuteTime": {
     "end_time": "2022-11-10T03:50:41.009609Z",
     "start_time": "2022-11-10T03:50:40.991610Z"
    }
   },
   "outputs": [
    {
     "data": {
      "text/plain": [
       "[[0, 9, 13, 14, 5, 13, 13, 11],\n",
       " [0, 0, 13, 10, 3, 10, 5, 10],\n",
       " [0, 0, 0, 10, 3, 9, 10, 6],\n",
       " [0, 0, 0, 0, 10, 14, 10, 12],\n",
       " [0, 0, 0, 0, 0, 5, 10, 3],\n",
       " [0, 0, 0, 0, 0, 0, 4, 3],\n",
       " [0, 0, 0, 0, 0, 0, 0, 18],\n",
       " [0, 0, 0, 0, 0, 0, 0, 0]]"
      ]
     },
     "execution_count": 16,
     "metadata": {},
     "output_type": "execute_result"
    }
   ],
   "source": [
    "data"
   ]
  },
  {
   "cell_type": "code",
   "execution_count": 7,
   "id": "1c562994",
   "metadata": {
    "ExecuteTime": {
     "end_time": "2022-11-10T02:34:51.813127Z",
     "start_time": "2022-11-10T02:34:51.808128Z"
    }
   },
   "outputs": [
    {
     "name": "stdout",
     "output_type": "stream",
     "text": [
      "35\n"
     ]
    },
    {
     "name": "stderr",
     "output_type": "stream",
     "text": [
      "C:\\Users\\sjhh4\\AppData\\Local\\Temp\\ipykernel_34060\\3958514369.py:2: DeprecationWarning: Using factorial() with floats is deprecated\n",
      "  fact = int(math.factorial(n)/(math.factorial(n/2)*math.factorial(n/2))/2)\n"
     ]
    }
   ],
   "source": [
    "import math\n",
    "fact = int(math.factorial(n)/(math.factorial(n/2)*math.factorial(n/2))/2)\n",
    "print(fact)"
   ]
  },
  {
   "cell_type": "code",
   "execution_count": 13,
   "id": "cbc51eca",
   "metadata": {
    "ExecuteTime": {
     "end_time": "2022-11-10T02:40:15.634833Z",
     "start_time": "2022-11-10T02:40:15.626831Z"
    }
   },
   "outputs": [
    {
     "name": "stdout",
     "output_type": "stream",
     "text": [
      "70\n",
      "[0, 1, 2, 3, 4, 5, 6, 7]\n"
     ]
    }
   ],
   "source": [
    "from itertools import combinations, permutations\n",
    "mate = [i for i in range(n)]\n",
    "comb = list(combinations([i for i in range(n)], int(n/2)))\n",
    "print(len(comb))\n",
    "print(mate)\n",
    "# for i in range(fact):\n",
    "    "
   ]
  },
  {
   "cell_type": "code",
   "execution_count": 14,
   "id": "417ddc70",
   "metadata": {
    "ExecuteTime": {
     "end_time": "2022-11-10T02:40:16.538411Z",
     "start_time": "2022-11-10T02:40:16.521412Z"
    }
   },
   "outputs": [
    {
     "name": "stdout",
     "output_type": "stream",
     "text": [
      "[(0, 1, 2, 3), (0, 1, 2, 4), (0, 1, 2, 5), (0, 1, 2, 6), (0, 1, 2, 7), (0, 1, 3, 4), (0, 1, 3, 5), (0, 1, 3, 6), (0, 1, 3, 7), (0, 1, 4, 5), (0, 1, 4, 6), (0, 1, 4, 7), (0, 1, 5, 6), (0, 1, 5, 7), (0, 1, 6, 7), (0, 2, 3, 4), (0, 2, 3, 5), (0, 2, 3, 6), (0, 2, 3, 7), (0, 2, 4, 5), (0, 2, 4, 6), (0, 2, 4, 7), (0, 2, 5, 6), (0, 2, 5, 7), (0, 2, 6, 7), (0, 3, 4, 5), (0, 3, 4, 6), (0, 3, 4, 7), (0, 3, 5, 6), (0, 3, 5, 7), (0, 3, 6, 7), (0, 4, 5, 6), (0, 4, 5, 7), (0, 4, 6, 7), (0, 5, 6, 7), (1, 2, 3, 4), (1, 2, 3, 5), (1, 2, 3, 6), (1, 2, 3, 7), (1, 2, 4, 5), (1, 2, 4, 6), (1, 2, 4, 7), (1, 2, 5, 6), (1, 2, 5, 7), (1, 2, 6, 7), (1, 3, 4, 5), (1, 3, 4, 6), (1, 3, 4, 7), (1, 3, 5, 6), (1, 3, 5, 7), (1, 3, 6, 7), (1, 4, 5, 6), (1, 4, 5, 7), (1, 4, 6, 7), (1, 5, 6, 7), (2, 3, 4, 5), (2, 3, 4, 6), (2, 3, 4, 7), (2, 3, 5, 6), (2, 3, 5, 7), (2, 3, 6, 7), (2, 4, 5, 6), (2, 4, 5, 7), (2, 4, 6, 7), (2, 5, 6, 7), (3, 4, 5, 6), (3, 4, 5, 7), (3, 4, 6, 7), (3, 5, 6, 7), (4, 5, 6, 7)]\n"
     ]
    }
   ],
   "source": [
    "print(comb)"
   ]
  },
  {
   "cell_type": "code",
   "execution_count": 12,
   "id": "ce282124",
   "metadata": {
    "ExecuteTime": {
     "end_time": "2022-11-10T02:35:30.779067Z",
     "start_time": "2022-11-10T02:35:30.767065Z"
    }
   },
   "outputs": [
    {
     "name": "stdout",
     "output_type": "stream",
     "text": [
      "{4, 5, 6, 7}\n",
      "{3, 5, 6, 7}\n",
      "{3, 4, 6, 7}\n",
      "{3, 4, 5, 7}\n",
      "{3, 4, 5, 6}\n",
      "{2, 5, 6, 7}\n",
      "{2, 4, 6, 7}\n",
      "{2, 4, 5, 7}\n",
      "{2, 4, 5, 6}\n",
      "{2, 3, 6, 7}\n",
      "{2, 3, 5, 7}\n",
      "{2, 3, 5, 6}\n",
      "{2, 3, 4, 7}\n",
      "{2, 3, 4, 6}\n",
      "{2, 3, 4, 5}\n",
      "{1, 5, 6, 7}\n",
      "{1, 4, 6, 7}\n",
      "{1, 4, 5, 7}\n",
      "{1, 4, 5, 6}\n",
      "{1, 3, 6, 7}\n",
      "{1, 3, 5, 7}\n",
      "{1, 3, 5, 6}\n",
      "{1, 3, 4, 7}\n",
      "{1, 3, 4, 6}\n",
      "{1, 3, 4, 5}\n",
      "{1, 2, 6, 7}\n",
      "{1, 2, 5, 7}\n",
      "{1, 2, 5, 6}\n",
      "{1, 2, 4, 7}\n",
      "{1, 2, 4, 6}\n",
      "{1, 2, 4, 5}\n",
      "{1, 2, 3, 7}\n",
      "{1, 2, 3, 6}\n",
      "{1, 2, 3, 5}\n",
      "{1, 2, 3, 4}\n"
     ]
    }
   ],
   "source": [
    "for i in range(fact):\n",
    "    oppo = set(mate) - set(comb[i])\n",
    "    for j in range(len(comb[i])):\n",
    "        a = 0\n",
    "        b = 0\n",
    "        a += data[comvinations(j)[j][0], permutations(j)[j][1]]\n",
    "        b += data[permutations[j]]\n",
    "        answer.append(abs(a-b))"
   ]
  },
  {
   "cell_type": "code",
   "execution_count": null,
   "id": "669bbb98",
   "metadata": {},
   "outputs": [],
   "source": []
  }
 ],
 "metadata": {
  "kernelspec": {
   "display_name": "ETA3.9",
   "language": "python",
   "name": "eta3.9"
  },
  "language_info": {
   "codemirror_mode": {
    "name": "ipython",
    "version": 3
   },
   "file_extension": ".py",
   "mimetype": "text/x-python",
   "name": "python",
   "nbconvert_exporter": "python",
   "pygments_lexer": "ipython3",
   "version": "3.9.12"
  },
  "toc": {
   "base_numbering": 1,
   "nav_menu": {},
   "number_sections": false,
   "sideBar": true,
   "skip_h1_title": false,
   "title_cell": "Table of Contents",
   "title_sidebar": "Contents",
   "toc_cell": true,
   "toc_position": {},
   "toc_section_display": true,
   "toc_window_display": false
  },
  "varInspector": {
   "cols": {
    "lenName": 16,
    "lenType": 16,
    "lenVar": 40
   },
   "kernels_config": {
    "python": {
     "delete_cmd_postfix": "",
     "delete_cmd_prefix": "del ",
     "library": "var_list.py",
     "varRefreshCmd": "print(var_dic_list())"
    },
    "r": {
     "delete_cmd_postfix": ") ",
     "delete_cmd_prefix": "rm(",
     "library": "var_list.r",
     "varRefreshCmd": "cat(var_dic_list()) "
    }
   },
   "types_to_exclude": [
    "module",
    "function",
    "builtin_function_or_method",
    "instance",
    "_Feature"
   ],
   "window_display": false
  }
 },
 "nbformat": 4,
 "nbformat_minor": 5
}
